{
 "cells": [
  {
   "cell_type": "markdown",
   "metadata": {},
   "source": [
    "# Predicting Home Prices Using Supervised Machine Learning\n",
    "------\n",
    "\n",
    "This notebook will walk you through use of the `homeprice_prediction.py` module.  The module uses supervised learning to make predictions of houses based on input variables.  The sample data that is included in the homeprice_prediction directory contains 512 homes with 13 variables.  They are:\n",
    "\n",
    "1. CRIM: per capita crime rate by town \n",
    "2. ZN: proportion of residential land zoned for lots over 25,000 sq.ft. \n",
    "3. INDUS: proportion of non-retail business acres per town \n",
    "4. CHAS: Charles River dummy variable (= 1 if tract bounds river; 0 otherwise) \n",
    "5. NOX: nitric oxides concentration (parts per 10 million) \n",
    "6. RM: average number of rooms per dwelling \n",
    "7. AGE: proportion of owner-occupied units built prior to 1940 \n",
    "8. DIS: weighted distances to five Boston employment centres \n",
    "9. RAD: index of accessibility to radial highways \n",
    "10. TAX: full-value property-tax rate per 10,000 dollars\n",
    "11. PTRATIO: pupil-teacher ratio by town \n",
    "12. B: 1000(Bk - 0.63)^2 where Bk is the proportion of blacks by town \n",
    "13. LSTAT: % lower status of the population \n",
    "14. MEDV: Median value of owner-occupied homes in 1000's\n",
    "\n",
    "The module uses learning curves and complexity graphs to narrow parameterization for the supervised learning model.  The notebook finishes by demonstrating how to make predictions on home prices."
   ]
  },
  {
   "cell_type": "markdown",
   "metadata": {},
   "source": [
    "## Load and Explore the Data\n",
    "\n",
    "We assume data is stored here, and this is the libraries we gonna use."
   ]
  },
  {
   "cell_type": "code",
   "execution_count": null,
   "metadata": {
    "collapsed": false
   },
   "outputs": [],
   "source": [
    "# LIBRARIES\n",
    "import homeprice_prediction\n",
    "\n",
    "# FILENAME OF DATA CSV STORED IN SAME DIRECTORY\n",
    "filename = \"data.csv\"\n",
    "\n",
    "# Tell iPython to include plots inline in the notebook\n",
    "%matplotlib inline"
   ]
  },
  {
   "cell_type": "code",
   "execution_count": null,
   "metadata": {
    "collapsed": false
   },
   "outputs": [],
   "source": [
    "# Load data\n",
    "data = homeprice_prediction.load_data(filename)\n",
    "\n",
    "# Explore the data\n",
    "homeprice_prediction.explore_data(data)"
   ]
  },
  {
   "cell_type": "markdown",
   "metadata": {},
   "source": [
    "## Prepare data for Machine Learning Algorithms\n",
    "-------\n",
    "\n",
    "Calculate the performance of the model after a set of training data.  \n",
    "    \n",
    "We use a learning curve as it is a visual graph that compares the metric performance\n",
    "of a model on training & testing data over a number of training instances.\n",
    "    \n",
    "When the testing curve and training curve plateau and there is no gap and the model has 'learned' everything."
   ]
  },
  {
   "cell_type": "code",
   "execution_count": null,
   "metadata": {
    "collapsed": false
   },
   "outputs": [],
   "source": [
    "# Training/Test dataset split\n",
    "X_train, y_train, X_test, y_test = homeprice_prediction.split_data(data, test_percentage = 0.3)\n",
    "\n",
    "# Learning Curve Graphs\n",
    "max_depths = [1,2,3,4,5,6,7,8,9,10]\n",
    "\n",
    "for max_depth in max_depths:\n",
    "    homeprice_prediction.learning_curve(max_depth, X_train, y_train, X_test, y_test)"
   ]
  },
  {
   "cell_type": "markdown",
   "metadata": {},
   "source": [
    "## Increase Model Complexity\n",
    "\n",
    "Model Complexity graph looks at how the complexity of a model changes the training and testing curves.\n",
    "\n",
    "More Complexity -> More Variability"
   ]
  },
  {
   "cell_type": "code",
   "execution_count": null,
   "metadata": {
    "collapsed": false
   },
   "outputs": [],
   "source": [
    "# Model Complexity Graph\n",
    "homeprice_prediction.model_complexity(X_train, y_train, X_test, y_test)"
   ]
  },
  {
   "cell_type": "markdown",
   "metadata": {},
   "source": [
    "## Optimize a Model and Make Predictions"
   ]
  },
  {
   "cell_type": "code",
   "execution_count": null,
   "metadata": {
    "collapsed": false
   },
   "outputs": [],
   "source": [
    "# Define a sample house\n",
    "house = [11.95, 0.00, 18.100, 0, 0.6590, 5.6090, 90.00, 1.385, 24, 680.0, 20.20, 332.09, 12.13]\n",
    "\n",
    "# Tune and predict Model\n",
    "homeprice_prediction.fit_predict_model(data, house)"
   ]
  }
 ],
 "metadata": {
  "kernelspec": {
   "display_name": "Python 2",
   "language": "python",
   "name": "python2"
  },
  "language_info": {
   "codemirror_mode": {
    "name": "ipython",
    "version": 2
   },
   "file_extension": ".py",
   "mimetype": "text/x-python",
   "name": "python",
   "nbconvert_exporter": "python",
   "pygments_lexer": "ipython2",
   "version": "2.7.11"
  }
 },
 "nbformat": 4,
 "nbformat_minor": 1
}
